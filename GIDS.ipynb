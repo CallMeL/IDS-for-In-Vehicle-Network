{
  "nbformat": 4,
  "nbformat_minor": 0,
  "metadata": {
    "colab": {
      "name": "GIDS.ipynb",
      "provenance": [],
      "collapsed_sections": [
        "lFYYchRxYEGJ"
      ],
      "mount_file_id": "12CGbIa6dRV0cL16QiXzE7klhcNHT727C",
      "authorship_tag": "ABX9TyM6IolAWP2QrcZUtAZWak9q",
      "include_colab_link": true
    },
    "kernelspec": {
      "name": "python3",
      "display_name": "Python 3"
    },
    "language_info": {
      "name": "python"
    }
  },
  "cells": [
    {
      "cell_type": "markdown",
      "metadata": {
        "id": "view-in-github",
        "colab_type": "text"
      },
      "source": [
        "<a href=\"https://colab.research.google.com/github/CallMeL/IDS-for-In-Vehicle-Network/blob/main/GIDS.ipynb\" target=\"_parent\"><img src=\"https://colab.research.google.com/assets/colab-badge.svg\" alt=\"Open In Colab\"/></a>"
      ]
    },
    {
      "cell_type": "markdown",
      "source": [
        "# overview\n",
        "对于论文[《GIDS: GAN based Intrusion Detection System for In-Vehicle Network》](https://awesong-kor.github.io/files/GIDS%20GAN%20based%20Intrusion%20Detection%20System%20for%20In-Vehicle%20Network.pdf)的代码调试\n"
      ],
      "metadata": {
        "id": "6STU_n2fhN5e"
      }
    },
    {
      "cell_type": "code",
      "source": [
        ""
      ],
      "metadata": {
        "id": "qNsS5skFhezF"
      },
      "execution_count": null,
      "outputs": []
    },
    {
      "cell_type": "markdown",
      "source": [
        "# 参考\n",
        "[文献笔记 —— GIDS: GAN based Intrusion Detection System for In-Vehicle Network](https://blog.csdn.net/weixin_45620107/article/details/110933886)\n",
        "\n",
        "[代码：created one-hot-vectors and batch of 64 CAN Images](https://github.com/NikosMouzakitis/GAN_based_Intrusion_Detection_System_for_in-vehicle_network/blob/main/gan_based_intrusion_detection.py)\n",
        "\n",
        "[CAN2.0B 数据帧详解](https://blog.csdn.net/daweihuahuo/article/details/78352762)\n"
      ],
      "metadata": {
        "id": "PokOEhfgTuIR"
      }
    },
    {
      "cell_type": "markdown",
      "source": [
        "# 论文阅读"
      ],
      "metadata": {
        "id": "lFYYchRxYEGJ"
      }
    },
    {
      "cell_type": "markdown",
      "source": [
        "\n",
        "## 概述\n",
        "车辆中的控制器局域网(CAN)总线是一种高效的标准总线，支持所有电子控制单元(ECU)之间的通信。但是，由于缺乏安全功能，CAN总线不足以保护自身。\n",
        "\n",
        "为了有效地检测可疑网络连接，需要**入侵检测系统(IDS)**。 \n",
        "\n",
        "与用于Internet的传统IDS不同，用于车辆网络的已知攻击特征很少。此外，用于车辆的IDS要求很高的准确性，因为任何假阳性错误都会严重影响驾驶员的安全。 \n",
        "\n",
        "为了解决这个问题，论文提出一种新的车载网络IDS模型GIDS(基于GAN的入侵检测系统)，它使用了深度学习模型Generative Adversarial Nets。 **GIDS可以学会仅使用正常数据来检测未知攻击。**\n",
        "\n",
        "## 要点\n",
        "\n",
        "\n",
        "*   从CAN数据中提取了CAN ID的模式进行训练\n",
        "  * CAN数据包含信息太多了、全部提取浪费时间\n",
        "  * 通过使用one-hot向量编码将提取的CAN ID转换为简单图像：将CAN ID的每个元素的二进制形式编码为one-hot向量（eg: canID =  0x2a0, 它由3个one-hot向量组成，例如[0100 ... 000]，[0..0100000]和[0..1000000]。2在第二位为1，a在第十位为1，以此类推\n",
        "\n",
        "## 整体设计\n",
        "\n",
        "1)针对已知攻击的训练：第一**鉴别器**接收从实际车辆提取的正常CAN图像和异常CAN图像。因为第一个鉴别器在训练过程中使用攻击数据，所以可以检测到的攻击类型可能仅限于训练中使用的攻击。\n",
        "\n",
        "2)训练未知攻击：通过对抗过程同时训练**生成器G**和第二个**鉴别器**。生成器通过使用随机噪声生成伪图像。第二个鉴别器接收正常的CAN图像和生成器生成的伪图像，并估计接收到的图像为真实CAN图像的可能性。即，第二鉴别器鉴别输入图像是真实的CAN图像还是由生成器生成的伪图像。生成器和第二个鉴别器相互竞争，并提高了性能。在GIDS模型中，第二个鉴别器最终赢得了生成器，因此第二个鉴别器甚至可以检测到类似于真实CAN图像的伪图像\n"
      ],
      "metadata": {
        "id": "lB6EArpaWToj"
      }
    },
    {
      "cell_type": "markdown",
      "source": [
        "# 代码"
      ],
      "metadata": {
        "id": "0dm-H3IBYFgR"
      }
    },
    {
      "cell_type": "markdown",
      "source": [
        "## 数据集"
      ],
      "metadata": {
        "id": "N4Hc4C10gzb0"
      }
    },
    {
      "cell_type": "code",
      "source": [
        ""
      ],
      "metadata": {
        "id": "Gyge-bxwgwUw"
      },
      "execution_count": null,
      "outputs": []
    },
    {
      "cell_type": "markdown",
      "source": [
        "## 网络"
      ],
      "metadata": {
        "id": "oDHTl182gxNT"
      }
    },
    {
      "cell_type": "markdown",
      "source": [
        "### OHV(one-hot-vector)"
      ],
      "metadata": {
        "id": "EbkEpjkwgVac"
      }
    },
    {
      "cell_type": "code",
      "execution_count": null,
      "metadata": {
        "id": "JAsQZeAOTrQ7"
      },
      "outputs": [],
      "source": [
        "import matplotlib.pyplot as plt\n",
        "import numpy as np\n",
        "#import tensorflow as tf\n",
        "\n",
        "def one_hot_vector(a):\n",
        "\t'''create a OHV(one-hot-vector) and return it based on \n",
        "\tthe hexadicimal digit string as provided argument.'''\n",
        "\n",
        "\tret= np.array([0,0,0,0,0,0,0,0,0,0,0,0,0,0,0,0])\n",
        "\tif(a=='0'):\n",
        "\t\tret[0]=1\n",
        "\telif(a=='1'):\t\n",
        "\t\tret[1]=1\n",
        "\telif(a=='2'):\t\n",
        "\t\tret[2]=1\n",
        "\telif(a=='3'):\t\n",
        "\t\tret[3]=1\n",
        "\telif(a=='4'):\t\n",
        "\t\tret[4]=1\n",
        "\telif(a=='5'):\t\n",
        "\t\tret[5]=1\n",
        "\telif(a=='6'):\t\n",
        "\t\tret[6]=1\n",
        "\telif(a=='7'):\t\n",
        "\t\tret[7]=1\n",
        "\telif(a=='8'):\t\n",
        "\t\tret[8]=1\n",
        "\telif(a=='9'):\t\n",
        "\t\tret[9]=1\n",
        "\telif(a=='a'):\n",
        "\t\tret[10]=1\n",
        "\telif(a=='b'):\t\n",
        "\t\tret[11]=1\n",
        "\telif(a=='c'):\t\n",
        "\t\tret[12]=1\n",
        "\telif(a=='d'):\t\n",
        "\t\tret[13]=1\n",
        "\telif(a=='e'):\t\n",
        "\t\tret[14]=1\n",
        "\telif(a=='f'):\t\n",
        "\t\tret[15]=1\n",
        "\n",
        "\treturn ret\n",
        "\n",
        "def create_CAN_image(s):\n",
        "\t'''Function which is creating the CAN Image of a given ID, by\n",
        "\t   subsequent calls to one_hot_vector() and returns as a numpy \n",
        "\t   array the CAN Image created.'''\n",
        "\t\n",
        "\ta = one_hot_vector(s[0])\n",
        "\tb = one_hot_vector(s[1])\n",
        "\tc = one_hot_vector(s[2])\n",
        "\n",
        "\tret=np.array([a,b,c])\n",
        "\n",
        "\treturn ret\n",
        "\n",
        "def create_64batch_Discriminator(can_image):\n",
        "    '''function that creates a 64X48 batch of\n",
        "    the CAN images.'''\n",
        "    \n",
        "    cnt=0\n",
        "    for i in can_image:\n",
        "        j=i.reshape(1,48)\n",
        "       \n",
        "        if(cnt==0):\n",
        "            a=j\n",
        "            cnt+=1\n",
        "        else:\n",
        "            a=np.concatenate((a,j),axis=0)\n",
        "    return a\n",
        "    \n",
        "    \n",
        "#start of the program\n",
        "    \n",
        "\n",
        "print(\"GAN Intrusion Detection System for CAN Bus case study.\\nStarted.\")\n",
        "ids_normal_list=[]\n",
        "f=open(\"NORMAL_IDS.txt\",\"r\")\n",
        "lines=f.readlines()\n",
        "f.close()\n",
        "\n",
        "for i in lines:\n",
        "\ti=i[2:len(i)-1]\t\n",
        "\tids_normal_list.append(i)\n",
        "\n",
        "ids_normal_list.pop()\n",
        "#now we have stored in ids_list all the IDS of the normal run.\n",
        "\n",
        "#create all the normal CAN_IMAGES(3*16 arrays)\n",
        "normal_CAN_Images=[]\n",
        "\n",
        "for i in ids_normal_list:\n",
        "\tnormal_CAN_Images.append(create_CAN_image(i))\n",
        "\n",
        "#create a batch of 64X16*3 2d image\n",
        "#batchDiscriminator = create_64batch_Discriminator(normal_CAN_Images[0:64])\n",
        "#plt.figure(1)\n",
        "#plt.imshow(batchDiscriminator,cmap=\"binary\")\n",
        "#plt.title(\"A batch for the Discriminator D(64X48)\")\n",
        "\n",
        "normal_train_batchD = [] #training list for batches of normal\n",
        "count_normal_train_batchD = 0\n",
        "\n",
        "for i in range(0,10816,64):\n",
        "    normal_train_batchD.append(create_64batch_Discriminator(normal_CAN_Images[i:i+64]))\n",
        "    count_normal_train_batchD += 1\n",
        "    "
      ]
    },
    {
      "cell_type": "markdown",
      "source": [
        "### GAN"
      ],
      "metadata": {
        "id": "2ChPSlz4graT"
      }
    },
    {
      "cell_type": "code",
      "source": [
        ""
      ],
      "metadata": {
        "id": "sctuaIh-gssj"
      },
      "execution_count": null,
      "outputs": []
    }
  ]
}